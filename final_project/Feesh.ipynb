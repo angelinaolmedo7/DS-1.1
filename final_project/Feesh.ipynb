{
 "cells": [
  {
   "cell_type": "markdown",
   "metadata": {},
   "source": [
    "# I've been playing a lot of Animal Crossing: New Horizons lately.\n",
    "<img style=\"float:left; padding-right: 35px;\" src=\"https://cdn.mobilesyrup.com/wp-content/uploads/2020/03/animal-crossing-fishing-gif.gif\">\n",
    "<br><br>\n",
    "\n",
    "<p style=\"font-size: large;\">One of the core activities in the game is fishing.</p> It's simple enough: you find a dark silhouette in any of the numerous water sources on your island, toss your fishing rod, and wait for the fish to boop the bobber. Only, when the fish does bite, it doesn't always sink the bobber right away. In order to catch the fish, you have to wait for the fishhook to sink, which can happen anywhere from the first to the fifth boop."
   ]
  },
  {
   "cell_type": "markdown",
   "metadata": {},
   "source": [
    "## If you were able to predict beforehand how many \"boops\" it might take to get a solid bite, fishing would suddenly become a whole lot easier.\n",
    "<p style=\"font-size: large;\">So I decided to investigate the correlation between boop-count and several other in-game factors. It's time to put on my detective hat and get fishing!</p> [image of me wearing that detective hat in game that im too lazy to import rn]\n",
    "\n",
    "#### Let's get some basics set up first:"
   ]
  },
  {
   "cell_type": "code",
   "execution_count": 1,
   "metadata": {},
   "outputs": [],
   "source": [
    "import pandas as pd\n",
    "import numpy as np\n",
    "import matplotlib.pyplot as plt\n",
    "import seaborn as sns\n",
    "from scipy.stats import norm\n",
    "\n",
    "FILEPATH = \"../datasets/feesh.csv\"\n",
    "\n",
    "df = pd.read_csv(FILEPATH, index_col=0)\n",
    "\n",
    "sns.set(style=\"white\", context=\"notebook\", palette=\"deep\")\n",
    "colors = [\"#66C2FF\", \"#5CD6D6\", \"#00CC99\", \"#85E085\", \"#FFD966\", \"#FFB366\", \"#FFB3B3\", \"#DAB3FF\", \"#C2C2D6\"]\n",
    "sns.set_palette(palette=colors, n_colors=4)"
   ]
  },
  {
   "cell_type": "markdown",
   "metadata": {},
   "source": [
    "# What exactly's in this \"feesh.csv\" file we just imported?\n",
    "<p style=\"font-size: large;\">To gather evidence for this study, I caught 200 fish over the course of a few days in April.</p> I caught every fish that I saw, so that any favoritism based on conditions or size would not skew the data. For each fish, I recorded the information described below. Since I collected the data myself, I can personally attest that there should not be any unfilled columns for any of the rows, and no cleansing should be necessary. However, adding additional, specialized columns might prove helpful.\n",
    "\n",
    "The dataset contains 7 relevant columns: <strong>Fish, Boops, Size, Time, Location, Weather, and Value.</strong>\n",
    "### Fish\n",
    "This is the name of the fish (or similar creature) that was caught. Animal Crossing has 80 unique kinds of \"fish,\" plus various other trash items that can be caught. In-game, fish-adjacent creatures such as snapping turtles and frogs are treated the same as fish, and thus will be considered fish for the purposes of this analysis. \n",
    "### Boops\n",
    "As explained previously, a fish \"boops\" the fish hook between 1 and 5 times before sinking it. The connections between this number and external variables such as value and weather, if any, will be the primary subject of investigation. \n",
    "### Size\n",
    "A fish appears in the water as a silhouette before it is caught. These shadows range in size from extra small to extra large. There is, in fact, a size above extra large, but fish of that size are extremely rare and were not encountered during this study. The size of the fish's silhouette is reliably determined by the species of fish. A sea bass, for example, will always appear as an extra large shadow. \n",
    "### Time\n",
    "Certain fish can only be caught at certain times of the day, or certain times of the year. Though it is not apparant from the dataset, all fish were caught during the month of April. Times are recorded in 24-hour time notation.\n",
    "### Location\n",
    "Fish of certain kinds are only available in certain locations. Though there is some overlap (a clifftop river, for example, can host all of the same fish as a normal river, along with fish unique to that location), there is a clear divide between freshwater fish (found in ponds and all river varieties) and saltwater fish (found in the sea and off the pier). Trash can be found everywhere that fish can be. \n",
    "### Weather\n",
    "Some fish are only available in certain weather, such as rain. There is also a general assumption among players that rarer fish appear more commonly in the rain, though I have not been able to find concrete evidence of this online. I will attempt to investigate this with my limited dataset, but dividing the data by weather is likely to create unreasonably small (and therefore unreliable) subsets of data. \n",
    "### Value\n",
    "Though players often refer to \"rare\" fish, there is no codified method of determining fish rariy. I have decided that the closest approximation for rarity, without knowing the in-game spawn probabilities for each fish, is value; that is, the number of bells (currency) they can be sold for at the standard general store. I will use these numbers to create rarity categories, which I will expand on later. \n",
    "\n",
    "## Let's take a glance at the dataframe:"
   ]
  },
  {
   "cell_type": "code",
   "execution_count": 2,
   "metadata": {},
   "outputs": [
    {
     "data": {
      "text/html": [
       "<div>\n",
       "<style scoped>\n",
       "    .dataframe tbody tr th:only-of-type {\n",
       "        vertical-align: middle;\n",
       "    }\n",
       "\n",
       "    .dataframe tbody tr th {\n",
       "        vertical-align: top;\n",
       "    }\n",
       "\n",
       "    .dataframe thead th {\n",
       "        text-align: right;\n",
       "    }\n",
       "</style>\n",
       "<table border=\"1\" class=\"dataframe\">\n",
       "  <thead>\n",
       "    <tr style=\"text-align: right;\">\n",
       "      <th></th>\n",
       "      <th>Fish</th>\n",
       "      <th>Boops</th>\n",
       "      <th>Size</th>\n",
       "      <th>Time</th>\n",
       "      <th>Location</th>\n",
       "      <th>Weather</th>\n",
       "      <th>Value</th>\n",
       "    </tr>\n",
       "    <tr>\n",
       "      <th>ID</th>\n",
       "      <th></th>\n",
       "      <th></th>\n",
       "      <th></th>\n",
       "      <th></th>\n",
       "      <th></th>\n",
       "      <th></th>\n",
       "      <th></th>\n",
       "    </tr>\n",
       "  </thead>\n",
       "  <tbody>\n",
       "    <tr>\n",
       "      <th>1</th>\n",
       "      <td>zebra turkeyfish</td>\n",
       "      <td>3</td>\n",
       "      <td>medium</td>\n",
       "      <td>11:14</td>\n",
       "      <td>sea</td>\n",
       "      <td>clear</td>\n",
       "      <td>500</td>\n",
       "    </tr>\n",
       "    <tr>\n",
       "      <th>2</th>\n",
       "      <td>guppy</td>\n",
       "      <td>5</td>\n",
       "      <td>x small</td>\n",
       "      <td>11:17</td>\n",
       "      <td>river</td>\n",
       "      <td>clear</td>\n",
       "      <td>1300</td>\n",
       "    </tr>\n",
       "    <tr>\n",
       "      <th>3</th>\n",
       "      <td>sea horse</td>\n",
       "      <td>5</td>\n",
       "      <td>x small</td>\n",
       "      <td>11:24</td>\n",
       "      <td>sea</td>\n",
       "      <td>clear</td>\n",
       "      <td>1100</td>\n",
       "    </tr>\n",
       "    <tr>\n",
       "      <th>4</th>\n",
       "      <td>olive flounder</td>\n",
       "      <td>4</td>\n",
       "      <td>large</td>\n",
       "      <td>11:25</td>\n",
       "      <td>sea</td>\n",
       "      <td>clear</td>\n",
       "      <td>800</td>\n",
       "    </tr>\n",
       "    <tr>\n",
       "      <th>5</th>\n",
       "      <td>bluegill</td>\n",
       "      <td>3</td>\n",
       "      <td>small</td>\n",
       "      <td>11:27</td>\n",
       "      <td>river</td>\n",
       "      <td>clear</td>\n",
       "      <td>180</td>\n",
       "    </tr>\n",
       "    <tr>\n",
       "      <th>...</th>\n",
       "      <td>...</td>\n",
       "      <td>...</td>\n",
       "      <td>...</td>\n",
       "      <td>...</td>\n",
       "      <td>...</td>\n",
       "      <td>...</td>\n",
       "      <td>...</td>\n",
       "    </tr>\n",
       "    <tr>\n",
       "      <th>196</th>\n",
       "      <td>stone</td>\n",
       "      <td>3</td>\n",
       "      <td>small</td>\n",
       "      <td>21:48</td>\n",
       "      <td>sea</td>\n",
       "      <td>clear</td>\n",
       "      <td>75</td>\n",
       "    </tr>\n",
       "    <tr>\n",
       "      <th>197</th>\n",
       "      <td>tadpole</td>\n",
       "      <td>2</td>\n",
       "      <td>x small</td>\n",
       "      <td>21:49</td>\n",
       "      <td>sea</td>\n",
       "      <td>clear</td>\n",
       "      <td>100</td>\n",
       "    </tr>\n",
       "    <tr>\n",
       "      <th>198</th>\n",
       "      <td>dab</td>\n",
       "      <td>2</td>\n",
       "      <td>medium</td>\n",
       "      <td>21:50</td>\n",
       "      <td>sea</td>\n",
       "      <td>clear</td>\n",
       "      <td>300</td>\n",
       "    </tr>\n",
       "    <tr>\n",
       "      <th>199</th>\n",
       "      <td>stone</td>\n",
       "      <td>2</td>\n",
       "      <td>small</td>\n",
       "      <td>21:51</td>\n",
       "      <td>sea</td>\n",
       "      <td>clear</td>\n",
       "      <td>75</td>\n",
       "    </tr>\n",
       "    <tr>\n",
       "      <th>200</th>\n",
       "      <td>red snapper</td>\n",
       "      <td>4</td>\n",
       "      <td>large</td>\n",
       "      <td>21:51</td>\n",
       "      <td>sea</td>\n",
       "      <td>clear</td>\n",
       "      <td>3000</td>\n",
       "    </tr>\n",
       "  </tbody>\n",
       "</table>\n",
       "<p>200 rows × 7 columns</p>\n",
       "</div>"
      ],
      "text/plain": [
       "                 Fish  Boops     Size   Time Location Weather  Value\n",
       "ID                                                                  \n",
       "1    zebra turkeyfish      3   medium  11:14      sea   clear    500\n",
       "2               guppy      5  x small  11:17    river   clear   1300\n",
       "3           sea horse      5  x small  11:24      sea   clear   1100\n",
       "4      olive flounder      4    large  11:25      sea   clear    800\n",
       "5            bluegill      3    small  11:27    river   clear    180\n",
       "..                ...    ...      ...    ...      ...     ...    ...\n",
       "196             stone      3    small  21:48      sea   clear     75\n",
       "197           tadpole      2  x small  21:49      sea   clear    100\n",
       "198               dab      2   medium  21:50      sea   clear    300\n",
       "199             stone      2    small  21:51      sea   clear     75\n",
       "200       red snapper      4    large  21:51      sea   clear   3000\n",
       "\n",
       "[200 rows x 7 columns]"
      ]
     },
     "execution_count": 2,
     "metadata": {},
     "output_type": "execute_result"
    }
   ],
   "source": [
    "df"
   ]
  },
  {
   "cell_type": "markdown",
   "metadata": {},
   "source": [
    "## What about boops?\n",
    "Fishing in Animal Crossing ultimately comes down to timing. Without any indication of when the fishhook will sink, catching a fish is purely reactionary. As soon as the fish bites, you have to quickly press 'A' to reel it in. Otherwise, it will slip off your hook and swim away. Beyond that, there isn't much strategy. However, a better understanding of the probabilities behind fishing could add more strategy to what otherwise would be a game of reflexes. <p style=\"font-size: large;\">If I can look at a fish's shadow and know from environmental conditions that it is most likely to sink the fishook on, for example, the third boop, I would be able to plan my timing accordingly.</p>\n",
    "## What can we use this data for?\n",
    "<p style=\"font-size: large;\">Well, lots of things!</p> We primarily want to investigate boop-count, but we can also see where certain fish appear, or dial-in on certain aspects of fishing. To demonstrate how we can use this set to look at more specific categories, let's take a look at only the Red Snappers I caught."
   ]
  },
  {
   "cell_type": "code",
   "execution_count": 3,
   "metadata": {},
   "outputs": [
    {
     "data": {
      "text/html": [
       "<div>\n",
       "<style scoped>\n",
       "    .dataframe tbody tr th:only-of-type {\n",
       "        vertical-align: middle;\n",
       "    }\n",
       "\n",
       "    .dataframe tbody tr th {\n",
       "        vertical-align: top;\n",
       "    }\n",
       "\n",
       "    .dataframe thead th {\n",
       "        text-align: right;\n",
       "    }\n",
       "</style>\n",
       "<table border=\"1\" class=\"dataframe\">\n",
       "  <thead>\n",
       "    <tr style=\"text-align: right;\">\n",
       "      <th></th>\n",
       "      <th>Fish</th>\n",
       "      <th>Boops</th>\n",
       "      <th>Size</th>\n",
       "      <th>Time</th>\n",
       "      <th>Location</th>\n",
       "      <th>Weather</th>\n",
       "      <th>Value</th>\n",
       "    </tr>\n",
       "    <tr>\n",
       "      <th>ID</th>\n",
       "      <th></th>\n",
       "      <th></th>\n",
       "      <th></th>\n",
       "      <th></th>\n",
       "      <th></th>\n",
       "      <th></th>\n",
       "      <th></th>\n",
       "    </tr>\n",
       "  </thead>\n",
       "  <tbody>\n",
       "    <tr>\n",
       "      <th>17</th>\n",
       "      <td>red snapper</td>\n",
       "      <td>1</td>\n",
       "      <td>large</td>\n",
       "      <td>11:48</td>\n",
       "      <td>sea</td>\n",
       "      <td>clear</td>\n",
       "      <td>3000</td>\n",
       "    </tr>\n",
       "    <tr>\n",
       "      <th>23</th>\n",
       "      <td>red snapper</td>\n",
       "      <td>3</td>\n",
       "      <td>large</td>\n",
       "      <td>12:00</td>\n",
       "      <td>sea</td>\n",
       "      <td>clear</td>\n",
       "      <td>3000</td>\n",
       "    </tr>\n",
       "    <tr>\n",
       "      <th>35</th>\n",
       "      <td>red snapper</td>\n",
       "      <td>2</td>\n",
       "      <td>large</td>\n",
       "      <td>13:15</td>\n",
       "      <td>sea</td>\n",
       "      <td>clear</td>\n",
       "      <td>3000</td>\n",
       "    </tr>\n",
       "    <tr>\n",
       "      <th>60</th>\n",
       "      <td>red snapper</td>\n",
       "      <td>1</td>\n",
       "      <td>large</td>\n",
       "      <td>14:01</td>\n",
       "      <td>sea</td>\n",
       "      <td>rain</td>\n",
       "      <td>3000</td>\n",
       "    </tr>\n",
       "    <tr>\n",
       "      <th>67</th>\n",
       "      <td>red snapper</td>\n",
       "      <td>1</td>\n",
       "      <td>large</td>\n",
       "      <td>14:22</td>\n",
       "      <td>sea</td>\n",
       "      <td>rain</td>\n",
       "      <td>3000</td>\n",
       "    </tr>\n",
       "    <tr>\n",
       "      <th>109</th>\n",
       "      <td>red snapper</td>\n",
       "      <td>3</td>\n",
       "      <td>large</td>\n",
       "      <td>2:49</td>\n",
       "      <td>sea</td>\n",
       "      <td>clear</td>\n",
       "      <td>3000</td>\n",
       "    </tr>\n",
       "    <tr>\n",
       "      <th>124</th>\n",
       "      <td>red snapper</td>\n",
       "      <td>1</td>\n",
       "      <td>large</td>\n",
       "      <td>15:17</td>\n",
       "      <td>pier</td>\n",
       "      <td>clear</td>\n",
       "      <td>3000</td>\n",
       "    </tr>\n",
       "    <tr>\n",
       "      <th>125</th>\n",
       "      <td>red snapper</td>\n",
       "      <td>1</td>\n",
       "      <td>large</td>\n",
       "      <td>15:18</td>\n",
       "      <td>sea</td>\n",
       "      <td>clear</td>\n",
       "      <td>3000</td>\n",
       "    </tr>\n",
       "    <tr>\n",
       "      <th>147</th>\n",
       "      <td>red snapper</td>\n",
       "      <td>4</td>\n",
       "      <td>large</td>\n",
       "      <td>15:52</td>\n",
       "      <td>sea</td>\n",
       "      <td>clear</td>\n",
       "      <td>3000</td>\n",
       "    </tr>\n",
       "    <tr>\n",
       "      <th>189</th>\n",
       "      <td>red snapper</td>\n",
       "      <td>4</td>\n",
       "      <td>large</td>\n",
       "      <td>21:39</td>\n",
       "      <td>sea</td>\n",
       "      <td>clear</td>\n",
       "      <td>3000</td>\n",
       "    </tr>\n",
       "    <tr>\n",
       "      <th>200</th>\n",
       "      <td>red snapper</td>\n",
       "      <td>4</td>\n",
       "      <td>large</td>\n",
       "      <td>21:51</td>\n",
       "      <td>sea</td>\n",
       "      <td>clear</td>\n",
       "      <td>3000</td>\n",
       "    </tr>\n",
       "  </tbody>\n",
       "</table>\n",
       "</div>"
      ],
      "text/plain": [
       "            Fish  Boops   Size   Time Location Weather  Value\n",
       "ID                                                           \n",
       "17   red snapper      1  large  11:48      sea   clear   3000\n",
       "23   red snapper      3  large  12:00      sea   clear   3000\n",
       "35   red snapper      2  large  13:15      sea   clear   3000\n",
       "60   red snapper      1  large  14:01      sea    rain   3000\n",
       "67   red snapper      1  large  14:22      sea    rain   3000\n",
       "109  red snapper      3  large   2:49      sea   clear   3000\n",
       "124  red snapper      1  large  15:17     pier   clear   3000\n",
       "125  red snapper      1  large  15:18      sea   clear   3000\n",
       "147  red snapper      4  large  15:52      sea   clear   3000\n",
       "189  red snapper      4  large  21:39      sea   clear   3000\n",
       "200  red snapper      4  large  21:51      sea   clear   3000"
      ]
     },
     "execution_count": 3,
     "metadata": {},
     "output_type": "execute_result"
    }
   ],
   "source": [
    "df.loc[df['Fish'] == 'red snapper']"
   ]
  },
  {
   "cell_type": "markdown",
   "metadata": {},
   "source": [
    "Easy enough! I can see from this that I caught 11 Red Snappers. They all have the same value, size, and are from saltwater locations—as expected.\n",
    "\n",
    "In fact, let's create another column to sort by saltwater or freshwater locations. This can give us a better understanding of species frequency. We'll call it \"Water Type\" and it will have two options: \"saltwater\" or \"freshwater\"."
   ]
  },
  {
   "cell_type": "code",
   "execution_count": 4,
   "metadata": {},
   "outputs": [
    {
     "data": {
      "text/html": [
       "<div>\n",
       "<style scoped>\n",
       "    .dataframe tbody tr th:only-of-type {\n",
       "        vertical-align: middle;\n",
       "    }\n",
       "\n",
       "    .dataframe tbody tr th {\n",
       "        vertical-align: top;\n",
       "    }\n",
       "\n",
       "    .dataframe thead th {\n",
       "        text-align: right;\n",
       "    }\n",
       "</style>\n",
       "<table border=\"1\" class=\"dataframe\">\n",
       "  <thead>\n",
       "    <tr style=\"text-align: right;\">\n",
       "      <th></th>\n",
       "      <th>Fish</th>\n",
       "      <th>Boops</th>\n",
       "      <th>Size</th>\n",
       "      <th>Time</th>\n",
       "      <th>Location</th>\n",
       "      <th>Weather</th>\n",
       "      <th>Value</th>\n",
       "      <th>Water Type</th>\n",
       "    </tr>\n",
       "    <tr>\n",
       "      <th>ID</th>\n",
       "      <th></th>\n",
       "      <th></th>\n",
       "      <th></th>\n",
       "      <th></th>\n",
       "      <th></th>\n",
       "      <th></th>\n",
       "      <th></th>\n",
       "      <th></th>\n",
       "    </tr>\n",
       "  </thead>\n",
       "  <tbody>\n",
       "    <tr>\n",
       "      <th>1</th>\n",
       "      <td>zebra turkeyfish</td>\n",
       "      <td>3</td>\n",
       "      <td>medium</td>\n",
       "      <td>11:14</td>\n",
       "      <td>sea</td>\n",
       "      <td>clear</td>\n",
       "      <td>500</td>\n",
       "      <td>saltwater</td>\n",
       "    </tr>\n",
       "    <tr>\n",
       "      <th>2</th>\n",
       "      <td>guppy</td>\n",
       "      <td>5</td>\n",
       "      <td>x small</td>\n",
       "      <td>11:17</td>\n",
       "      <td>river</td>\n",
       "      <td>clear</td>\n",
       "      <td>1300</td>\n",
       "      <td>freshwater</td>\n",
       "    </tr>\n",
       "    <tr>\n",
       "      <th>3</th>\n",
       "      <td>sea horse</td>\n",
       "      <td>5</td>\n",
       "      <td>x small</td>\n",
       "      <td>11:24</td>\n",
       "      <td>sea</td>\n",
       "      <td>clear</td>\n",
       "      <td>1100</td>\n",
       "      <td>saltwater</td>\n",
       "    </tr>\n",
       "    <tr>\n",
       "      <th>4</th>\n",
       "      <td>olive flounder</td>\n",
       "      <td>4</td>\n",
       "      <td>large</td>\n",
       "      <td>11:25</td>\n",
       "      <td>sea</td>\n",
       "      <td>clear</td>\n",
       "      <td>800</td>\n",
       "      <td>saltwater</td>\n",
       "    </tr>\n",
       "    <tr>\n",
       "      <th>5</th>\n",
       "      <td>bluegill</td>\n",
       "      <td>3</td>\n",
       "      <td>small</td>\n",
       "      <td>11:27</td>\n",
       "      <td>river</td>\n",
       "      <td>clear</td>\n",
       "      <td>180</td>\n",
       "      <td>freshwater</td>\n",
       "    </tr>\n",
       "  </tbody>\n",
       "</table>\n",
       "</div>"
      ],
      "text/plain": [
       "                Fish  Boops     Size   Time Location Weather  Value  \\\n",
       "ID                                                                    \n",
       "1   zebra turkeyfish      3   medium  11:14      sea   clear    500   \n",
       "2              guppy      5  x small  11:17    river   clear   1300   \n",
       "3          sea horse      5  x small  11:24      sea   clear   1100   \n",
       "4     olive flounder      4    large  11:25      sea   clear    800   \n",
       "5           bluegill      3    small  11:27    river   clear    180   \n",
       "\n",
       "    Water Type  \n",
       "ID              \n",
       "1    saltwater  \n",
       "2   freshwater  \n",
       "3    saltwater  \n",
       "4    saltwater  \n",
       "5   freshwater  "
      ]
     },
     "execution_count": 4,
     "metadata": {},
     "output_type": "execute_result"
    }
   ],
   "source": [
    "def _water_type(data):\n",
    "    if data == \"river\" or data == \"river mouth\" or data == \"clifftop river\" or data == \"pond\":\n",
    "        return \"freshwater\"\n",
    "    elif data == \"sea\" or data == \"pier\":\n",
    "        return \"saltwater\"\n",
    "    else:\n",
    "        return \"ERROR\"  # this shouldn't happen! hopefully...\n",
    "\n",
    "df[\"Water Type\"] = df[\"Location\"].apply(_water_type)\n",
    "df.head()"
   ]
  },
  {
   "cell_type": "markdown",
   "metadata": {},
   "source": [
    "Great! Let's make sure none of those water types met the error condition:"
   ]
  },
  {
   "cell_type": "code",
   "execution_count": 5,
   "metadata": {},
   "outputs": [
    {
     "data": {
      "text/plain": [
       "Fish          0\n",
       "Boops         0\n",
       "Size          0\n",
       "Time          0\n",
       "Location      0\n",
       "Weather       0\n",
       "Value         0\n",
       "Water Type    0\n",
       "dtype: int64"
      ]
     },
     "execution_count": 5,
     "metadata": {},
     "output_type": "execute_result"
    }
   ],
   "source": [
    "df.loc[df['Water Type'] == 'ERROR'].count()"
   ]
  },
  {
   "cell_type": "markdown",
   "metadata": {},
   "source": [
    "Good to go. Now we can easily, for instance, separate all the saltwater fish! "
   ]
  },
  {
   "cell_type": "code",
   "execution_count": 6,
   "metadata": {},
   "outputs": [
    {
     "data": {
      "text/html": [
       "<div>\n",
       "<style scoped>\n",
       "    .dataframe tbody tr th:only-of-type {\n",
       "        vertical-align: middle;\n",
       "    }\n",
       "\n",
       "    .dataframe tbody tr th {\n",
       "        vertical-align: top;\n",
       "    }\n",
       "\n",
       "    .dataframe thead th {\n",
       "        text-align: right;\n",
       "    }\n",
       "</style>\n",
       "<table border=\"1\" class=\"dataframe\">\n",
       "  <thead>\n",
       "    <tr style=\"text-align: right;\">\n",
       "      <th></th>\n",
       "      <th>Fish</th>\n",
       "      <th>Boops</th>\n",
       "      <th>Size</th>\n",
       "      <th>Time</th>\n",
       "      <th>Location</th>\n",
       "      <th>Weather</th>\n",
       "      <th>Value</th>\n",
       "      <th>Water Type</th>\n",
       "    </tr>\n",
       "    <tr>\n",
       "      <th>ID</th>\n",
       "      <th></th>\n",
       "      <th></th>\n",
       "      <th></th>\n",
       "      <th></th>\n",
       "      <th></th>\n",
       "      <th></th>\n",
       "      <th></th>\n",
       "      <th></th>\n",
       "    </tr>\n",
       "  </thead>\n",
       "  <tbody>\n",
       "    <tr>\n",
       "      <th>1</th>\n",
       "      <td>zebra turkeyfish</td>\n",
       "      <td>3</td>\n",
       "      <td>medium</td>\n",
       "      <td>11:14</td>\n",
       "      <td>sea</td>\n",
       "      <td>clear</td>\n",
       "      <td>500</td>\n",
       "      <td>saltwater</td>\n",
       "    </tr>\n",
       "    <tr>\n",
       "      <th>3</th>\n",
       "      <td>sea horse</td>\n",
       "      <td>5</td>\n",
       "      <td>x small</td>\n",
       "      <td>11:24</td>\n",
       "      <td>sea</td>\n",
       "      <td>clear</td>\n",
       "      <td>1100</td>\n",
       "      <td>saltwater</td>\n",
       "    </tr>\n",
       "    <tr>\n",
       "      <th>4</th>\n",
       "      <td>olive flounder</td>\n",
       "      <td>4</td>\n",
       "      <td>large</td>\n",
       "      <td>11:25</td>\n",
       "      <td>sea</td>\n",
       "      <td>clear</td>\n",
       "      <td>800</td>\n",
       "      <td>saltwater</td>\n",
       "    </tr>\n",
       "    <tr>\n",
       "      <th>6</th>\n",
       "      <td>sea bass</td>\n",
       "      <td>2</td>\n",
       "      <td>x large</td>\n",
       "      <td>11:30</td>\n",
       "      <td>sea</td>\n",
       "      <td>clear</td>\n",
       "      <td>400</td>\n",
       "      <td>saltwater</td>\n",
       "    </tr>\n",
       "    <tr>\n",
       "      <th>7</th>\n",
       "      <td>olive flounder</td>\n",
       "      <td>1</td>\n",
       "      <td>large</td>\n",
       "      <td>11:31</td>\n",
       "      <td>sea</td>\n",
       "      <td>clear</td>\n",
       "      <td>800</td>\n",
       "      <td>saltwater</td>\n",
       "    </tr>\n",
       "  </tbody>\n",
       "</table>\n",
       "</div>"
      ],
      "text/plain": [
       "                Fish  Boops     Size   Time Location Weather  Value Water Type\n",
       "ID                                                                            \n",
       "1   zebra turkeyfish      3   medium  11:14      sea   clear    500  saltwater\n",
       "3          sea horse      5  x small  11:24      sea   clear   1100  saltwater\n",
       "4     olive flounder      4    large  11:25      sea   clear    800  saltwater\n",
       "6           sea bass      2  x large  11:30      sea   clear    400  saltwater\n",
       "7     olive flounder      1    large  11:31      sea   clear    800  saltwater"
      ]
     },
     "execution_count": 6,
     "metadata": {},
     "output_type": "execute_result"
    }
   ],
   "source": [
    "df.loc[df['Water Type'] == 'saltwater'].head()"
   ]
  },
  {
   "cell_type": "markdown",
   "metadata": {},
   "source": [
    "We don't need that quite yet, but it'll come up again later. \n",
    "## What we really want to focus on right now is boops. Is it really random?\n",
    "Let's take a preliminary look with a bar graph of all 200 catches. We can use a handy histogram function that might look familiar from earlier in this class!"
   ]
  },
  {
   "cell_type": "code",
   "execution_count": 7,
   "metadata": {},
   "outputs": [
    {
     "data": {
      "text/plain": [
       "<BarContainer object of 5 artists>"
      ]
     },
     "execution_count": 7,
     "metadata": {},
     "output_type": "execute_result"
    },
    {
     "data": {
      "image/png": "[encoded data removed]",
      "text/plain": [
       "<Figure size 432x288 with 1 Axes>"
      ]
     },
     "metadata": {},
     "output_type": "display_data"
    }
   ],
   "source": [
    "def custom_hist(ls, interval):\n",
    "    hist_ls_dict = dict()\n",
    "    ls = sorted(ls)\n",
    "    min_ls = np.min(ls)\n",
    "    max_ls = np.max(ls)\n",
    "    \n",
    "    current_min = int(np.floor(min_ls))\n",
    "    current_max = current_min + interval\n",
    "    \n",
    "    for j in ls:\n",
    "        while j >= current_max:\n",
    "            current_min = current_max\n",
    "            current_max += interval\n",
    "        hist_ls_dict[current_min] = hist_ls_dict.get(current_min, 0) + 1 \n",
    "    return hist_ls_dict\n",
    "\n",
    "hist_dict = custom_hist(df['Boops'].values, 1)\n",
    "plt.bar(hist_dict.keys(), hist_dict.values(), 1, color='lightblue')"
   ]
  },
  {
   "cell_type": "markdown",
   "metadata": {},
   "source": [
    "### That certainly doesn't look random!\n",
    "In fact, at a glance it appears to resemble a right-skewed distribution. Let's use a countplot to see if saltwater and freshwater fish have the same distribution."
   ]
  },
  {
   "cell_type": "code",
   "execution_count": 8,
   "metadata": {},
   "outputs": [
    {
     "data": {
      "image/png": "[encoded data removed]",
      "text/plain": [
       "<Figure size 432x288 with 1 Axes>"
      ]
     },
     "metadata": {},
     "output_type": "display_data"
    }
   ],
   "source": [
    "plt.show(sns.countplot(\"Boops\", hue=\"Water Type\", data=df))"
   ]
  },
  {
   "cell_type": "markdown",
   "metadata": {},
   "source": [
    "#### They do seem to follow the same general spread. That brings us to our first question:\n",
    "## Do boops relate to the location of the fish?\n",
    "The dataset contains 130 saltwater and 70 freshwater catches. Why don't we make a couple violin plots to separate out those two categories and view boops-by-water-type?"
   ]
  },
  {
   "cell_type": "code",
   "execution_count": 9,
   "metadata": {},
   "outputs": [
    {
     "data": {
      "text/plain": [
       "<matplotlib.axes._subplots.AxesSubplot at 0x1202ddad0>"
      ]
     },
     "execution_count": 9,
     "metadata": {},
     "output_type": "execute_result"
    },
    {
     "data": {
      "image/png": "[encoded data removed]",
      "text/plain": [
       "<Figure size 432x288 with 1 Axes>"
      ]
     },
     "metadata": {},
     "output_type": "display_data"
    }
   ],
   "source": [
    "sns.violinplot(x=\"Water Type\", y=\"Boops\", data=df)"
   ]
  },
  {
   "cell_type": "markdown",
   "metadata": {},
   "source": [
    "That also looks like both water types have similar shapes. But we shouldn't just go by what it <i>looks</i> like is going on—let's use a z-test to get a quantifiable measure of statistical significance. This function might look familiar from our class on Hypothesis Testing, with some modifications:"
   ]
  },
  {
   "cell_type": "code",
   "execution_count": 10,
   "metadata": {},
   "outputs": [],
   "source": [
    "def accept_or_reject_null_hypothesis(population, sample, significant_level):\n",
    "    # From the general population, calculate the mean:\n",
    "    population_mean = np.array(population.values).mean()\n",
    "    # And for the sample:\n",
    "    sample_mean = np.array(sample.values).mean()\n",
    "    # Now calculate the SD for the population. We'll implement this function next:\n",
    "    sigma = calc_std(population)\n",
    "    # N is the len of sample\n",
    "    N = sample.values.size\n",
    "    # Calculate standard deviation of the sample\n",
    "    sample_std = calc_std(sample)\n",
    "\n",
    "    # Calculate z-score from population mean (mu), sample mean and sample std\n",
    "    z = (sample_mean - population_mean) / sample_std / np.sqrt(N)\n",
    "\n",
    "    # Calculate p-value from z-score\n",
    "    p_value = 2 * norm.cdf(-np.abs(z))\n",
    "\n",
    "    # Determine whether to accept or reject null hypothesis\n",
    "    if p_value < significant_level:\n",
    "        print('Reject null hypothesis. P-value is {}, calculated from z-value {}'.format(p_value, z))\n",
    "    else:\n",
    "        print('Accept null hypothesis. P-value is {}, calculated from z-value {}'.format(p_value, z))\n",
    "        \n",
    "# And to calculate standard deviation:\n",
    "def calc_std(population):\n",
    "    # Make an array from the population values\n",
    "    arr = np.array(population.values)\n",
    "    # Calculate the mean\n",
    "    mean = arr.mean()\n",
    "    # Make a new empty list to hold the (value - mean)^2\n",
    "    arr_2 = []\n",
    "    for num in arr:\n",
    "        arr_2.append(np.square(num - mean))\n",
    "    # Standard deviation is the square root of the mean of arr_2\n",
    "    return np.sqrt(np.array(arr_2).mean())"
   ]
  },
  {
   "cell_type": "markdown",
   "metadata": {},
   "source": [
    "If we set everything up right, we should just be able to toss in our two groups. Fingers crossed! We'll also set the significance level at .05, which is generally considered solid."
   ]
  },
  {
   "cell_type": "code",
   "execution_count": 11,
   "metadata": {},
   "outputs": [
    {
     "name": "stdout",
     "output_type": "stream",
     "text": [
      "Accept null hypothesis. P-value is 0.9707632177592345, calculated from z-value 0.036651076432583043\n"
     ]
    }
   ],
   "source": [
    "# We'll consider saltwater to be the general population, since it's the larger of the two.\n",
    "saltwater = df.loc[df['Water Type'] == 'saltwater']['Boops']\n",
    "freshwater = df.loc[df['Water Type'] == 'freshwater']['Boops']\n",
    "accept_or_reject_null_hypothesis(saltwater, freshwater, 0.05)"
   ]
  },
  {
   "cell_type": "markdown",
   "metadata": {},
   "source": [
    "### Yep! That's pretty solid evidence for boop-count being entirely unrelated to water-type.\n",
    "How about fish size though? \n",
    "## Can fish size predict boop-count?\n",
    "How about a nice countplot to get started:"
   ]
  },
  {
   "cell_type": "code",
   "execution_count": 12,
   "metadata": {},
   "outputs": [
    {
     "data": {
      "image/png": "[encoded data removed]",
      "text/plain": [
       "<Figure size 432x288 with 1 Axes>"
      ]
     },
     "metadata": {},
     "output_type": "display_data"
    }
   ],
   "source": [
    "plt.show(sns.countplot(\"Boops\", hue=\"Size\", data=df))"
   ]
  },
  {
   "cell_type": "markdown",
   "metadata": {},
   "source": [
    "It's hard to tell much of anything without the data being normalized. But we already have a nice set of functions for deciding whether a variable is relevant. Let's try getting the P value with, say, <i>x small</i> fish as the sample and the other sizes as the general population."
   ]
  },
  {
   "cell_type": "code",
   "execution_count": 13,
   "metadata": {},
   "outputs": [
    {
     "name": "stdout",
     "output_type": "stream",
     "text": [
      "Accept null hypothesis. P-value is 0.9791051883544115, calculated from z-value -0.026190756807231014\n"
     ]
    }
   ],
   "source": [
    "small = df.loc[df['Size'] == 'x small']['Boops']\n",
    "not_small = df.loc[df['Size'] != 'x small']['Boops']\n",
    "accept_or_reject_null_hypothesis(small, not_small, 0.05)"
   ]
  },
  {
   "cell_type": "markdown",
   "metadata": {},
   "source": [
    "Yep, it's looking like size is irrelevant too. Bummer. For good measure, lets run through each size and calculate their P-values. "
   ]
  },
  {
   "cell_type": "code",
   "execution_count": 14,
   "metadata": {},
   "outputs": [
    {
     "name": "stdout",
     "output_type": "stream",
     "text": [
      "X small:\n",
      "Accept null hypothesis. P-value is 0.9791051883544115, calculated from z-value -0.026190756807231014\n",
      "\n",
      "\n",
      "Small:\n",
      "Accept null hypothesis. P-value is 0.9964559256712004, calculated from z-value 0.004441853066275082\n",
      "\n",
      "\n",
      "Medium:\n",
      "Accept null hypothesis. P-value is 0.9978244192586553, calculated from z-value -0.002726689478742829\n",
      "\n",
      "\n",
      "Large:\n",
      "Accept null hypothesis. P-value is 0.9970821148025378, calculated from z-value 0.003657034920499233\n",
      "\n",
      "\n",
      "X large:\n",
      "Accept null hypothesis. P-value is 0.985126210596339, calculated from z-value 0.01864261034240404\n",
      "\n",
      "\n"
     ]
    }
   ],
   "source": [
    "def many_null_hypothesis(column_one, categories, column_two):\n",
    "    for cat in categories:\n",
    "        print(cat.capitalize() + \":\")\n",
    "        yes_cat = df.loc[df[column_one] == cat][column_two]\n",
    "        not_cat = df.loc[df[column_one] != cat][column_two]\n",
    "        accept_or_reject_null_hypothesis(yes_cat, not_cat, 0.05)\n",
    "        print(\"\\n\")\n",
    "\n",
    "many_null_hypothesis('Size', ['x small', 'small', 'medium', 'large', 'x large'], 'Boops')"
   ]
  },
  {
   "cell_type": "markdown",
   "metadata": {},
   "source": [
    "### Looks like we're universally accepting the null hypothesis here. Size cannot predict boop-count.\n",
    "\n",
    "We've spent some time looking at predictors of boop-count. Now let's ask what boops can predict!\n",
    "## Do boops relate to the rarity of the fish?\n",
    "Let's make a quick scatterplot with all the fish and their values. While rarity and value are not necessarily equivalent, value will make an adequate substitute. "
   ]
  },
  {
   "cell_type": "code",
   "execution_count": 15,
   "metadata": {},
   "outputs": [
    {
     "data": {
      "text/plain": [
       "[<matplotlib.lines.Line2D at 0x1247edf10>]"
      ]
     },
     "execution_count": 15,
     "metadata": {},
     "output_type": "execute_result"
    },
    {
     "data": {
      "image/png": "[encoded data removed]",
      "text/plain": [
       "<Figure size 432x288 with 1 Axes>"
      ]
     },
     "metadata": {},
     "output_type": "display_data"
    }
   ],
   "source": [
    "plt.plot(df['Value'], df['Boops'], 'o', color='blue')"
   ]
  },
  {
   "cell_type": "markdown",
   "metadata": {},
   "source": [
    "There's not a whole lot of information to be gleaned from this view, and it's easy to see why; common fish are just that—more common. Also, price doesn't really scale linearly in Animal Crossing, so the data ends up needlessly clumped. To investigate this further, let's make some rarity categories for fish based on value. We'll use the following, non-linear rarity scale:\n",
    "\n",
    "<strong>\\< 100:</strong> Trash\n",
    "\n",
    "<strong>\\[100, 400):</strong> Common\n",
    "\n",
    "<strong>\\[400, 1300):</strong> Uncommon\n",
    "\n",
    "<strong>\\[1300, 4000):</strong> Rare\n",
    "\n",
    "<strong>\\> 4000:</strong> Very rare\n",
    "\n",
    "First, let's create a new category: Rarity"
   ]
  },
  {
   "cell_type": "code",
   "execution_count": 16,
   "metadata": {},
   "outputs": [
    {
     "data": {
      "text/html": [
       "<div>\n",
       "<style scoped>\n",
       "    .dataframe tbody tr th:only-of-type {\n",
       "        vertical-align: middle;\n",
       "    }\n",
       "\n",
       "    .dataframe tbody tr th {\n",
       "        vertical-align: top;\n",
       "    }\n",
       "\n",
       "    .dataframe thead th {\n",
       "        text-align: right;\n",
       "    }\n",
       "</style>\n",
       "<table border=\"1\" class=\"dataframe\">\n",
       "  <thead>\n",
       "    <tr style=\"text-align: right;\">\n",
       "      <th></th>\n",
       "      <th>Fish</th>\n",
       "      <th>Boops</th>\n",
       "      <th>Size</th>\n",
       "      <th>Time</th>\n",
       "      <th>Location</th>\n",
       "      <th>Weather</th>\n",
       "      <th>Value</th>\n",
       "      <th>Water Type</th>\n",
       "      <th>Rarity</th>\n",
       "    </tr>\n",
       "    <tr>\n",
       "      <th>ID</th>\n",
       "      <th></th>\n",
       "      <th></th>\n",
       "      <th></th>\n",
       "      <th></th>\n",
       "      <th></th>\n",
       "      <th></th>\n",
       "      <th></th>\n",
       "      <th></th>\n",
       "      <th></th>\n",
       "    </tr>\n",
       "  </thead>\n",
       "  <tbody>\n",
       "    <tr>\n",
       "      <th>1</th>\n",
       "      <td>zebra turkeyfish</td>\n",
       "      <td>3</td>\n",
       "      <td>medium</td>\n",
       "      <td>11:14</td>\n",
       "      <td>sea</td>\n",
       "      <td>clear</td>\n",
       "      <td>500</td>\n",
       "      <td>saltwater</td>\n",
       "      <td>Uncommon</td>\n",
       "    </tr>\n",
       "    <tr>\n",
       "      <th>2</th>\n",
       "      <td>guppy</td>\n",
       "      <td>5</td>\n",
       "      <td>x small</td>\n",
       "      <td>11:17</td>\n",
       "      <td>river</td>\n",
       "      <td>clear</td>\n",
       "      <td>1300</td>\n",
       "      <td>freshwater</td>\n",
       "      <td>Uncommon</td>\n",
       "    </tr>\n",
       "    <tr>\n",
       "      <th>3</th>\n",
       "      <td>sea horse</td>\n",
       "      <td>5</td>\n",
       "      <td>x small</td>\n",
       "      <td>11:24</td>\n",
       "      <td>sea</td>\n",
       "      <td>clear</td>\n",
       "      <td>1100</td>\n",
       "      <td>saltwater</td>\n",
       "      <td>Uncommon</td>\n",
       "    </tr>\n",
       "    <tr>\n",
       "      <th>4</th>\n",
       "      <td>olive flounder</td>\n",
       "      <td>4</td>\n",
       "      <td>large</td>\n",
       "      <td>11:25</td>\n",
       "      <td>sea</td>\n",
       "      <td>clear</td>\n",
       "      <td>800</td>\n",
       "      <td>saltwater</td>\n",
       "      <td>Uncommon</td>\n",
       "    </tr>\n",
       "    <tr>\n",
       "      <th>5</th>\n",
       "      <td>bluegill</td>\n",
       "      <td>3</td>\n",
       "      <td>small</td>\n",
       "      <td>11:27</td>\n",
       "      <td>river</td>\n",
       "      <td>clear</td>\n",
       "      <td>180</td>\n",
       "      <td>freshwater</td>\n",
       "      <td>Common</td>\n",
       "    </tr>\n",
       "  </tbody>\n",
       "</table>\n",
       "</div>"
      ],
      "text/plain": [
       "                Fish  Boops     Size   Time Location Weather  Value  \\\n",
       "ID                                                                    \n",
       "1   zebra turkeyfish      3   medium  11:14      sea   clear    500   \n",
       "2              guppy      5  x small  11:17    river   clear   1300   \n",
       "3          sea horse      5  x small  11:24      sea   clear   1100   \n",
       "4     olive flounder      4    large  11:25      sea   clear    800   \n",
       "5           bluegill      3    small  11:27    river   clear    180   \n",
       "\n",
       "    Water Type    Rarity  \n",
       "ID                        \n",
       "1    saltwater  Uncommon  \n",
       "2   freshwater  Uncommon  \n",
       "3    saltwater  Uncommon  \n",
       "4    saltwater  Uncommon  \n",
       "5   freshwater    Common  "
      ]
     },
     "execution_count": 16,
     "metadata": {},
     "output_type": "execute_result"
    }
   ],
   "source": [
    "BINS = [0, 100, 400, 1300, 4000, np.inf]\n",
    "LABELS = ['Trash', 'Common', 'Uncommon', 'Rare', 'Very rare']\n",
    "\n",
    "df['Rarity'] = pd.cut(df['Value'], BINS, include_lowest=True, labels=LABELS)\n",
    "df.head()"
   ]
  },
  {
   "cell_type": "markdown",
   "metadata": {},
   "source": [
    "What does the dataspread look like for that new category? A quick countplot can give us a basic idea, and reaffirm that the bins are reasonable. "
   ]
  },
  {
   "cell_type": "code",
   "execution_count": 17,
   "metadata": {},
   "outputs": [
    {
     "data": {
      "image/png": "[encoded data removed]",
      "text/plain": [
       "<Figure size 432x288 with 1 Axes>"
      ]
     },
     "metadata": {},
     "output_type": "display_data"
    }
   ],
   "source": [
    "plt.show(sns.countplot(\"Boops\", hue=\"Rarity\", data=df))"
   ]
  },
  {
   "cell_type": "markdown",
   "metadata": {},
   "source": [
    "Looks good. The differing quantities make proportions a little difficult to visualize, though. A set of pie charts might be easier to visualize."
   ]
  },
  {
   "cell_type": "code",
   "execution_count": 18,
   "metadata": {},
   "outputs": [
    {
     "data": {
      "text/plain": [
       "Common       21\n",
       "Uncommon     10\n",
       "Rare          5\n",
       "Trash         1\n",
       "Very rare     0\n",
       "Name: Rarity, dtype: int64"
      ]
     },
     "execution_count": 18,
     "metadata": {},
     "output_type": "execute_result"
    }
   ],
   "source": [
    "df_boops = df.loc[df['Boops'] == 1]\n",
    "df_boops['Rarity'].value_counts()"
   ]
  },
  {
   "cell_type": "code",
   "execution_count": 19,
   "metadata": {},
   "outputs": [
    {
     "data": {
      "text/plain": [
       "Text(0.5, 1.0, 'Five Boops\\n')"
      ]
     },
     "execution_count": 19,
     "metadata": {},
     "output_type": "execute_result"
    },
    {
     "data": {
      "image/png": "[encoded data removed]",
      "text/plain": [
       "<Figure size 1080x1080 with 6 Axes>"
      ]
     },
     "metadata": {},
     "output_type": "display_data"
    }
   ],
   "source": [
    "fig, axs = plt.subplots(2, 3, figsize=(15,15))\n",
    "fig.tight_layout(pad=3.0)\n",
    "LABELS = ['Common', 'Uncommon', 'Rare', 'Trash', 'Very rare']\n",
    "\n",
    "rarity_df = df[\"Rarity\"].value_counts()\n",
    "axs[0,0].pie(rarity_df.values, labels=LABELS, colors=colors, autopct='%1.1f%%', shadow=True)\n",
    "axs[0,0].set_title(\"All Catches\\n\")\n",
    "centre_circle = plt.Circle((0,0),0.75, color='black', fc='white', linewidth=1.25)\n",
    "\n",
    "df_boops = df.loc[df['Boops'] == 1]\n",
    "rarity_df = df_boops['Rarity'].value_counts()\n",
    "axs[0,1].pie(rarity_df.values, labels=LABELS, colors=colors, autopct='%1.1f%%', shadow=True)\n",
    "axs[0,1].set_title(\"One Boop\\n\")\n",
    "\n",
    "df_boops = df.loc[df['Boops'] == 2]\n",
    "rarity_df = df_boops['Rarity'].value_counts()\n",
    "axs[0,2].pie(rarity_df.values, labels=LABELS, colors=colors, autopct='%1.1f%%', shadow=True)\n",
    "axs[0,2].set_title(\"Two Boops\\n\")\n",
    "\n",
    "df_boops = df.loc[df['Boops'] == 3]\n",
    "rarity_df = df_boops['Rarity'].value_counts()\n",
    "axs[1,0].pie(rarity_df.values, labels=LABELS, colors=colors, autopct='%1.1f%%', shadow=True)\n",
    "axs[1,0].set_title(\"Three Boops\\n\")\n",
    "\n",
    "df_boops = df.loc[df['Boops'] == 4]\n",
    "rarity_df = df_boops['Rarity'].value_counts()\n",
    "axs[1,1].pie(rarity_df.values, labels=LABELS, colors=colors, autopct='%1.1f%%', shadow=True)\n",
    "axs[1,1].set_title(\"Four Boops\\n\")\n",
    "\n",
    "df_boops = df.loc[df['Boops'] == 5]\n",
    "rarity_df = df_boops['Rarity'].value_counts()\n",
    "axs[1,2].pie(rarity_df.values, labels=LABELS, colors=colors, autopct='%1.1f%%', shadow=True)\n",
    "axs[1,2].set_title(\"Five Boops\\n\")"
   ]
  },
  {
   "cell_type": "markdown",
   "metadata": {},
   "source": [
    "I'm ready to make the call that boop-count can't predict rarity, but we already have some nice functions set up to confirm that. Let's take advantage of them now."
   ]
  },
  {
   "cell_type": "code",
   "execution_count": 20,
   "metadata": {},
   "outputs": [
    {
     "name": "stdout",
     "output_type": "stream",
     "text": [
      "Common:\n",
      "Accept null hypothesis. P-value is 0.9974345459773634, calculated from z-value 0.003215325335370245\n",
      "\n",
      "\n",
      "Uncommon:\n",
      "Accept null hypothesis. P-value is 0.9972914194072017, calculated from z-value -0.0033947088691327508\n",
      "\n",
      "\n",
      "Rare:\n",
      "Accept null hypothesis. P-value is 0.9828580630539959, calculated from z-value 0.0214858849365608\n",
      "\n",
      "\n",
      "Trash:\n",
      "Accept null hypothesis. P-value is 0.9833308773230994, calculated from z-value -0.02089316707105468\n",
      "\n",
      "\n",
      "Very rare:\n",
      "Accept null hypothesis. P-value is 0.9701064029384455, calculated from z-value 0.03747483734691557\n",
      "\n",
      "\n"
     ]
    }
   ],
   "source": [
    "many_null_hypothesis('Rarity', LABELS, 'Boops')"
   ]
  },
  {
   "cell_type": "markdown",
   "metadata": {},
   "source": [
    "### It's official: Boop count cannot predict rarity. \n",
    "At this point, I'm about ready to move on from boops entirely. Since we took the time to make rarity categories, though, let's see if size and rarity are linked. That would also be useful in-game: we can ignore silhouettes that are more likely to be common. \n",
    "## Are size and rarity related?\n",
    "We can start with a simple chart of frequencies:"
   ]
  },
  {
   "cell_type": "code",
   "execution_count": 21,
   "metadata": {},
   "outputs": [
    {
     "data": {
      "text/html": [
       "<div>\n",
       "<style scoped>\n",
       "    .dataframe tbody tr th:only-of-type {\n",
       "        vertical-align: middle;\n",
       "    }\n",
       "\n",
       "    .dataframe tbody tr th {\n",
       "        vertical-align: top;\n",
       "    }\n",
       "\n",
       "    .dataframe thead th {\n",
       "        text-align: right;\n",
       "    }\n",
       "</style>\n",
       "<table border=\"1\" class=\"dataframe\">\n",
       "  <thead>\n",
       "    <tr style=\"text-align: right;\">\n",
       "      <th>Rarity</th>\n",
       "      <th>Trash</th>\n",
       "      <th>Common</th>\n",
       "      <th>Uncommon</th>\n",
       "      <th>Rare</th>\n",
       "      <th>Very rare</th>\n",
       "    </tr>\n",
       "    <tr>\n",
       "      <th>Size</th>\n",
       "      <th></th>\n",
       "      <th></th>\n",
       "      <th></th>\n",
       "      <th></th>\n",
       "      <th></th>\n",
       "    </tr>\n",
       "  </thead>\n",
       "  <tbody>\n",
       "    <tr>\n",
       "      <th>large</th>\n",
       "      <td>1</td>\n",
       "      <td>12</td>\n",
       "      <td>8</td>\n",
       "      <td>11</td>\n",
       "      <td>0</td>\n",
       "    </tr>\n",
       "    <tr>\n",
       "      <th>medium</th>\n",
       "      <td>3</td>\n",
       "      <td>18</td>\n",
       "      <td>16</td>\n",
       "      <td>0</td>\n",
       "      <td>1</td>\n",
       "    </tr>\n",
       "    <tr>\n",
       "      <th>small</th>\n",
       "      <td>9</td>\n",
       "      <td>55</td>\n",
       "      <td>5</td>\n",
       "      <td>0</td>\n",
       "      <td>0</td>\n",
       "    </tr>\n",
       "    <tr>\n",
       "      <th>x large</th>\n",
       "      <td>0</td>\n",
       "      <td>28</td>\n",
       "      <td>0</td>\n",
       "      <td>0</td>\n",
       "      <td>1</td>\n",
       "    </tr>\n",
       "    <tr>\n",
       "      <th>x small</th>\n",
       "      <td>2</td>\n",
       "      <td>8</td>\n",
       "      <td>22</td>\n",
       "      <td>0</td>\n",
       "      <td>0</td>\n",
       "    </tr>\n",
       "  </tbody>\n",
       "</table>\n",
       "</div>"
      ],
      "text/plain": [
       "Rarity   Trash  Common  Uncommon  Rare  Very rare\n",
       "Size                                             \n",
       "large        1      12         8    11          0\n",
       "medium       3      18        16     0          1\n",
       "small        9      55         5     0          0\n",
       "x large      0      28         0     0          1\n",
       "x small      2       8        22     0          0"
      ]
     },
     "execution_count": 21,
     "metadata": {},
     "output_type": "execute_result"
    }
   ],
   "source": [
    "pd.crosstab(df[\"Size\"], df[\"Rarity\"])"
   ]
  },
  {
   "cell_type": "markdown",
   "metadata": {},
   "source": [
    "Let's go ahead and normalize that data so we can compare it better:"
   ]
  },
  {
   "cell_type": "code",
   "execution_count": 22,
   "metadata": {},
   "outputs": [
    {
     "data": {
      "text/html": [
       "<div>\n",
       "<style scoped>\n",
       "    .dataframe tbody tr th:only-of-type {\n",
       "        vertical-align: middle;\n",
       "    }\n",
       "\n",
       "    .dataframe tbody tr th {\n",
       "        vertical-align: top;\n",
       "    }\n",
       "\n",
       "    .dataframe thead th {\n",
       "        text-align: right;\n",
       "    }\n",
       "</style>\n",
       "<table border=\"1\" class=\"dataframe\">\n",
       "  <thead>\n",
       "    <tr style=\"text-align: right;\">\n",
       "      <th>Rarity</th>\n",
       "      <th>Trash</th>\n",
       "      <th>Common</th>\n",
       "      <th>Uncommon</th>\n",
       "      <th>Rare</th>\n",
       "      <th>Very rare</th>\n",
       "    </tr>\n",
       "    <tr>\n",
       "      <th>Size</th>\n",
       "      <th></th>\n",
       "      <th></th>\n",
       "      <th></th>\n",
       "      <th></th>\n",
       "      <th></th>\n",
       "    </tr>\n",
       "  </thead>\n",
       "  <tbody>\n",
       "    <tr>\n",
       "      <th>large</th>\n",
       "      <td>0.066667</td>\n",
       "      <td>0.099174</td>\n",
       "      <td>0.156863</td>\n",
       "      <td>1.0</td>\n",
       "      <td>0.0</td>\n",
       "    </tr>\n",
       "    <tr>\n",
       "      <th>medium</th>\n",
       "      <td>0.200000</td>\n",
       "      <td>0.148760</td>\n",
       "      <td>0.313725</td>\n",
       "      <td>0.0</td>\n",
       "      <td>0.5</td>\n",
       "    </tr>\n",
       "    <tr>\n",
       "      <th>small</th>\n",
       "      <td>0.600000</td>\n",
       "      <td>0.454545</td>\n",
       "      <td>0.098039</td>\n",
       "      <td>0.0</td>\n",
       "      <td>0.0</td>\n",
       "    </tr>\n",
       "    <tr>\n",
       "      <th>x large</th>\n",
       "      <td>0.000000</td>\n",
       "      <td>0.231405</td>\n",
       "      <td>0.000000</td>\n",
       "      <td>0.0</td>\n",
       "      <td>0.5</td>\n",
       "    </tr>\n",
       "    <tr>\n",
       "      <th>x small</th>\n",
       "      <td>0.133333</td>\n",
       "      <td>0.066116</td>\n",
       "      <td>0.431373</td>\n",
       "      <td>0.0</td>\n",
       "      <td>0.0</td>\n",
       "    </tr>\n",
       "  </tbody>\n",
       "</table>\n",
       "</div>"
      ],
      "text/plain": [
       "Rarity      Trash    Common  Uncommon  Rare  Very rare\n",
       "Size                                                  \n",
       "large    0.066667  0.099174  0.156863   1.0        0.0\n",
       "medium   0.200000  0.148760  0.313725   0.0        0.5\n",
       "small    0.600000  0.454545  0.098039   0.0        0.0\n",
       "x large  0.000000  0.231405  0.000000   0.0        0.5\n",
       "x small  0.133333  0.066116  0.431373   0.0        0.0"
      ]
     },
     "execution_count": 22,
     "metadata": {},
     "output_type": "execute_result"
    }
   ],
   "source": [
    "pd.crosstab(df[\"Size\"], df[\"Rarity\"], normalize='columns')"
   ]
  },
  {
   "cell_type": "markdown",
   "metadata": {},
   "source": [
    "That's better, but still hard to visualize. This seems like a good time to pull out a heatmap! We'll be able to see if any cells show distictly higher density than the others."
   ]
  },
  {
   "cell_type": "code",
   "execution_count": 23,
   "metadata": {},
   "outputs": [
    {
     "data": {
      "image/png": "[encoded data removed]",
      "text/plain": [
       "<Figure size 432x288 with 2 Axes>"
      ]
     },
     "metadata": {},
     "output_type": "display_data"
    }
   ],
   "source": [
    "plt.show(sns.heatmap(pd.crosstab(df[\"Size\"], df[\"Rarity\"], normalize='columns'), cmap=\"Blues\"))"
   ]
  },
  {
   "cell_type": "markdown",
   "metadata": {},
   "source": [
    "Interesting! Looks like, for fish at least, bigger really <i>is</i> better.\n",
    "\n",
    "## Finally, let's see if the meme has any merit behind it: are sea bass really the worst?\n",
    "\n",
    "<img src=\"https://static2.thegamerimages.com/wordpress/wp-content/uploads/2020/04/seabass-meme.jpg?q=50&fit=crop&w=740&h=465\">\n",
    "\n",
    "Players like to lament that the sea bass is annoyingly common. But how common is it? What percentage of saltwater fish are actually sea bass?"
   ]
  },
  {
   "cell_type": "code",
   "execution_count": 24,
   "metadata": {},
   "outputs": [
    {
     "data": {
      "text/plain": [
       "0.2153846153846154"
      ]
     },
     "execution_count": 24,
     "metadata": {},
     "output_type": "execute_result"
    }
   ],
   "source": [
    "# Separate the saltwater fish:\n",
    "saltwater_fish = df.loc[df['Water Type'] == 'saltwater']\n",
    "\n",
    "# What percent of those are sea bass?\n",
    "saltwater_fish.loc[saltwater_fish['Fish'] == 'sea bass']['Fish'].size / saltwater_fish['Fish'].size"
   ]
  },
  {
   "cell_type": "markdown",
   "metadata": {},
   "source": [
    "Wow! 21% is certainly significant. But are sea bass the <i>most</i> common?"
   ]
  },
  {
   "cell_type": "code",
   "execution_count": 25,
   "metadata": {},
   "outputs": [
    {
     "data": {
      "text/plain": [
       "sea bass            28\n",
       "horse mackerel      23\n",
       "dab                 14\n",
       "red snapper         11\n",
       "zebra turkeyfish    10\n",
       "sea horse            9\n",
       "olive flounder       8\n",
       "squid                6\n",
       "stone                5\n",
       "clown fish           4\n",
       "butterfly fish       3\n",
       "anchovy              2\n",
       "surgeonfish          2\n",
       "barred knifejaw      1\n",
       "oarfish              1\n",
       "empty can            1\n",
       "tadpole              1\n",
       "old tire             1\n",
       "Name: Fish, dtype: int64"
      ]
     },
     "execution_count": 25,
     "metadata": {},
     "output_type": "execute_result"
    }
   ],
   "source": [
    "saltwater_fish['Fish'].value_counts()"
   ]
  },
  {
   "cell_type": "markdown",
   "metadata": {},
   "source": [
    "### Okay, I'll relent: sea bass are the worst. \n",
    "Sea bass were the most common ocean fish, with 5 more instances than the runner up (horse mackerel). Combine that with the fact that they're disappointingly common for an x large shadow, the community resentment is understandable. I guess I should've put more faith in the memes! \n",
    "\n",
    "<img src=\"https://66.media.tumblr.com/6ece723564e98c135fd108fb9f26e14a/b267bc8ce9107fe1-bf/s640x960/03f9d03b940162ab46c27c044ffc5d9c9b6fb6eb.jpg\">"
   ]
  },
  {
   "cell_type": "code",
   "execution_count": null,
   "metadata": {},
   "outputs": [],
   "source": []
  }
 ],
 "metadata": {
  "kernelspec": {
   "display_name": "Python 3",
   "language": "python",
   "name": "python3"
  },
  "language_info": {
   "codemirror_mode": {
    "name": "ipython",
    "version": 3
   },
   "file_extension": ".py",
   "mimetype": "text/x-python",
   "name": "python",
   "nbconvert_exporter": "python",
   "pygments_lexer": "ipython3",
   "version": "3.7.4"
  }
 },
 "nbformat": 4,
 "nbformat_minor": 4
}
