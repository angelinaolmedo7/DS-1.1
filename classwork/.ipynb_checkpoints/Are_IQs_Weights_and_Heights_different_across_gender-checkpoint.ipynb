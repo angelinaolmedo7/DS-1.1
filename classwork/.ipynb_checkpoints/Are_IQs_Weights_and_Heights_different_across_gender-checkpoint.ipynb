{
 "cells": [
  {
   "cell_type": "markdown",
   "metadata": {},
   "source": [
    "## From the given Brain_Size dataset:\n",
    "\n",
    "- Compare VIQ for female and male "
   ]
  },
  {
   "cell_type": "code",
   "execution_count": 3,
   "metadata": {},
   "outputs": [
    {
     "ename": "NameError",
     "evalue": "name 'Sample_A' is not defined",
     "output_type": "error",
     "traceback": [
      "\u001b[0;31m---------------------------------------------------------------------------\u001b[0m",
      "\u001b[0;31mNameError\u001b[0m                                 Traceback (most recent call last)",
      "\u001b[0;32m<ipython-input-3-37c97931619f>\u001b[0m in \u001b[0;36m<module>\u001b[0;34m\u001b[0m\n\u001b[1;32m      7\u001b[0m \u001b[0;34m\u001b[0m\u001b[0m\n\u001b[1;32m      8\u001b[0m \u001b[0;31m# For Unpaired two Samples t-test\u001b[0m\u001b[0;34m\u001b[0m\u001b[0;34m\u001b[0m\u001b[0;34m\u001b[0m\u001b[0m\n\u001b[0;32m----> 9\u001b[0;31m \u001b[0mstat\u001b[0m\u001b[0;34m,\u001b[0m \u001b[0mp\u001b[0m \u001b[0;34m=\u001b[0m \u001b[0mstats\u001b[0m\u001b[0;34m.\u001b[0m\u001b[0mttest_ind\u001b[0m\u001b[0;34m(\u001b[0m\u001b[0mSample_A\u001b[0m\u001b[0;34m,\u001b[0m \u001b[0mSample_B\u001b[0m\u001b[0;34m)\u001b[0m\u001b[0;34m\u001b[0m\u001b[0;34m\u001b[0m\u001b[0m\n\u001b[0m",
      "\u001b[0;31mNameError\u001b[0m: name 'Sample_A' is not defined"
     ]
    }
   ],
   "source": [
    "import pandas\n",
    "from pandas.plotting import scatter_matrix\n",
    "import matplotlib.pyplot as plt\n",
    "from scipy import stats\n",
    "\n",
    "data = pandas.read_csv('../datasets/brain_size.csv', sep=';', na_values=\".\")\n",
    "\n",
    "# For Unpaired two Samples t-test \n",
    "stat, p = stats.ttest_ind(Sample_A, Sample_B)"
   ]
  },
  {
   "cell_type": "markdown",
   "metadata": {},
   "source": [
    "## Steps:\n",
    "\n",
    "1- Obtain the mean VIQ for the male and female samples\n",
    "\n",
    "2- Can we accept that population average (mean) of VIQ are the same for male and female?\n",
    " \n",
    "     Hint: Calculate the T-test for the means of two independent samples\n",
    "\n",
    "     If the p-value is smaller than the threshold (significant level), e.g. 1%, 5% or 10%, then we reject the null hypothesis of equal averages \n",
    "     (accept different population average)"
   ]
  },
  {
   "cell_type": "markdown",
   "metadata": {},
   "source": [
    "## Extent the above analysis of 'FSIQ', 'VIQ', 'PIQ', 'Weight', 'Height' for male and female\n",
    "\n",
    "- Performance IQ (PIQ)\n",
    "- Verbal IQ (VIQ)\n",
    "- Full Scale Intelligence Quotient (FSIQ)"
   ]
  },
  {
   "cell_type": "code",
   "execution_count": null,
   "metadata": {},
   "outputs": [],
   "source": []
  }
 ],
 "metadata": {
  "kernelspec": {
   "display_name": "Python 3",
   "language": "python",
   "name": "python3"
  },
  "language_info": {
   "codemirror_mode": {
    "name": "ipython",
    "version": 3
   },
   "file_extension": ".py",
   "mimetype": "text/x-python",
   "name": "python",
   "nbconvert_exporter": "python",
   "pygments_lexer": "ipython3",
   "version": "3.7.4"
  }
 },
 "nbformat": 4,
 "nbformat_minor": 2
}
